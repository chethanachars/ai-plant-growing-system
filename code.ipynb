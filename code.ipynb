{
 "cells": [
  {
   "cell_type": "code",
   "execution_count": 1,
   "metadata": {},
   "outputs": [],
   "source": [
    "import tensorflow as tf\n",
    "import numpy as np\n",
    "import pandas as pd\n",
    "import matplotlib.pyplot as plt\n"
   ]
  },
  {
   "cell_type": "code",
   "execution_count": 2,
   "metadata": {},
   "outputs": [],
   "source": [
    "# Load the data from a CSV file\n",
    "data = pd.read_csv(\"chitradurga.csv\")\n",
    "\n",
    "# Remove the \"time\" column\n",
    "data = data.drop([\"time\"], axis=1)\n",
    "\n",
    "# Split the data into current and target variables\n",
    "current_vars = data[[\"temperature_2m\", \"relativehumidity_2m\"]]\n",
    "target_vars = data[[\"rain\", \"soil_temperature_0_to_7cm\", \"soil_moisture\"]]\n",
    "\n",
    "# Normalize the data\n",
    "current_vars = (current_vars - current_vars.mean()) / current_vars.std()\n",
    "target_vars = (target_vars - target_vars.mean()) / target_vars.std()\n",
    "\n",
    "# Split the data into training and testing sets\n",
    "train_size = int(len(data) * 0.8)\n",
    "train_current_vars = current_vars[:train_size]\n",
    "train_target_vars = target_vars[:train_size]\n",
    "test_current_vars = current_vars[train_size:]\n",
    "test_target_vars = target_vars[train_size:]\n"
   ]
  },
  {
   "cell_type": "code",
   "execution_count": 3,
   "metadata": {},
   "outputs": [
    {
     "name": "stdout",
     "output_type": "stream",
     "text": [
      "WARNING:tensorflow:Layer lstm will not use cuDNN kernels since it doesn't meet the criteria. It will use a generic GPU kernel as fallback when running on GPU.\n"
     ]
    }
   ],
   "source": [
    "#reshape the data\n",
    "train_current_vars = np.array(train_current_vars).reshape(-1, 1, 2)\n",
    "train_target_vars = np.array(train_target_vars).reshape(-1, 1, 3)\n",
    "test_current_vars = np.array(test_current_vars).reshape(-1, 1, 2)\n",
    "test_target_vars = np.array(test_target_vars).reshape(-1, 1, 3)\n",
    "\n",
    "# Define the input shape\n",
    "input_shape = (None, 2)\n",
    "\n",
    "# Define the number of LSTM cells and output nodes\n",
    "num_cells = 64\n",
    "num_outputs = 3\n",
    "\n",
    "# Build the LSTM model\n",
    "model = tf.keras.models.Sequential([\n",
    "    tf.keras.layers.LSTM(num_cells, input_shape=input_shape, activation=\"sigmoid\"),\n",
    "    tf.keras.layers.Dense(num_outputs, activation=\"linear\")\n",
    "])\n",
    "\n",
    "# Compile the model\n",
    "model.compile(loss=\"mean_squared_error\", optimizer=\"Adam\")\n"
   ]
  },
  {
   "cell_type": "code",
   "execution_count": 5,
   "metadata": {},
   "outputs": [
    {
     "name": "stdout",
     "output_type": "stream",
     "text": [
      "Epoch 1/100\n",
      "5095/5095 [==============================] - 21s 4ms/step - loss: 0.9938 - val_loss: 1.0122\n",
      "Epoch 2/100\n",
      "5095/5095 [==============================] - 20s 4ms/step - loss: 0.9938 - val_loss: 1.0135\n",
      "Epoch 3/100\n",
      "5095/5095 [==============================] - 19s 4ms/step - loss: 0.9936 - val_loss: 1.0143\n",
      "Epoch 4/100\n",
      "5095/5095 [==============================] - 17s 3ms/step - loss: 0.9935 - val_loss: 1.0203\n",
      "Epoch 5/100\n",
      "5095/5095 [==============================] - 17s 3ms/step - loss: 0.9935 - val_loss: 1.0199\n",
      "Epoch 6/100\n",
      "5095/5095 [==============================] - 17s 3ms/step - loss: 0.9937 - val_loss: 1.0103\n",
      "Epoch 7/100\n",
      "5095/5095 [==============================] - 17s 3ms/step - loss: 0.9933 - val_loss: 1.0128\n",
      "Epoch 8/100\n",
      "5095/5095 [==============================] - 17s 3ms/step - loss: 0.9935 - val_loss: 1.0072\n",
      "Epoch 9/100\n",
      "5095/5095 [==============================] - 17s 3ms/step - loss: 0.9934 - val_loss: 1.0161\n",
      "Epoch 10/100\n",
      "5095/5095 [==============================] - 16s 3ms/step - loss: 0.9934 - val_loss: 1.0150\n",
      "Epoch 11/100\n",
      "5095/5095 [==============================] - 17s 3ms/step - loss: 0.9935 - val_loss: 1.0159\n",
      "Epoch 12/100\n",
      "5095/5095 [==============================] - 17s 3ms/step - loss: 0.9934 - val_loss: 1.0090\n",
      "Epoch 13/100\n",
      "5095/5095 [==============================] - 17s 3ms/step - loss: 0.9933 - val_loss: 1.0093\n",
      "Epoch 14/100\n",
      "5095/5095 [==============================] - 17s 3ms/step - loss: 0.9933 - val_loss: 1.0144\n",
      "Epoch 15/100\n",
      "5095/5095 [==============================] - 17s 3ms/step - loss: 0.9932 - val_loss: 1.0135\n",
      "Epoch 16/100\n",
      "5095/5095 [==============================] - 17s 3ms/step - loss: 0.9933 - val_loss: 1.0092\n",
      "Epoch 17/100\n",
      "5095/5095 [==============================] - 17s 3ms/step - loss: 0.9932 - val_loss: 1.0217\n",
      "Epoch 18/100\n",
      "5095/5095 [==============================] - 18s 4ms/step - loss: 0.9932 - val_loss: 1.0067\n",
      "Epoch 19/100\n",
      "5095/5095 [==============================] - 18s 4ms/step - loss: 0.9932 - val_loss: 1.0150\n",
      "Epoch 20/100\n",
      "5095/5095 [==============================] - 18s 3ms/step - loss: 0.9932 - val_loss: 1.0188\n",
      "Epoch 21/100\n",
      "5095/5095 [==============================] - 16s 3ms/step - loss: 0.9931 - val_loss: 1.0080\n",
      "Epoch 22/100\n",
      "5095/5095 [==============================] - 17s 3ms/step - loss: 0.9930 - val_loss: 1.0194\n",
      "Epoch 23/100\n",
      "5095/5095 [==============================] - 17s 3ms/step - loss: 0.9930 - val_loss: 1.0183\n",
      "Epoch 24/100\n",
      "5095/5095 [==============================] - 18s 3ms/step - loss: 0.9930 - val_loss: 1.0113\n",
      "Epoch 25/100\n",
      "5095/5095 [==============================] - 18s 4ms/step - loss: 0.9931 - val_loss: 1.0114\n",
      "Epoch 26/100\n",
      "5095/5095 [==============================] - 18s 3ms/step - loss: 0.9929 - val_loss: 1.0048\n",
      "Epoch 27/100\n",
      "5095/5095 [==============================] - 18s 3ms/step - loss: 0.9929 - val_loss: 1.0117\n",
      "Epoch 28/100\n",
      "5095/5095 [==============================] - 17s 3ms/step - loss: 0.9928 - val_loss: 1.0151\n",
      "Epoch 29/100\n",
      "5095/5095 [==============================] - 17s 3ms/step - loss: 0.9928 - val_loss: 1.0072\n",
      "Epoch 30/100\n",
      "5095/5095 [==============================] - 17s 3ms/step - loss: 0.9928 - val_loss: 1.0151\n",
      "Epoch 31/100\n",
      "5095/5095 [==============================] - 17s 3ms/step - loss: 0.9928 - val_loss: 1.0040\n",
      "Epoch 32/100\n",
      "5095/5095 [==============================] - 18s 3ms/step - loss: 0.9929 - val_loss: 1.0083\n",
      "Epoch 33/100\n",
      "5095/5095 [==============================] - 17s 3ms/step - loss: 0.9928 - val_loss: 1.0107\n",
      "Epoch 34/100\n",
      "5095/5095 [==============================] - 17s 3ms/step - loss: 0.9926 - val_loss: 1.0103\n",
      "Epoch 35/100\n",
      "5095/5095 [==============================] - 17s 3ms/step - loss: 0.9927 - val_loss: 1.0124\n",
      "Epoch 36/100\n",
      "5095/5095 [==============================] - 18s 4ms/step - loss: 0.9927 - val_loss: 1.0099\n",
      "Epoch 37/100\n",
      "5095/5095 [==============================] - 18s 4ms/step - loss: 0.9927 - val_loss: 1.0130\n",
      "Epoch 38/100\n",
      "5095/5095 [==============================] - 17s 3ms/step - loss: 0.9926 - val_loss: 1.0077\n",
      "Epoch 39/100\n",
      "5095/5095 [==============================] - 17s 3ms/step - loss: 0.9927 - val_loss: 1.0141\n",
      "Epoch 40/100\n",
      "5095/5095 [==============================] - 18s 3ms/step - loss: 0.9926 - val_loss: 1.0118\n",
      "Epoch 41/100\n",
      "5095/5095 [==============================] - 18s 3ms/step - loss: 0.9926 - val_loss: 1.0074\n",
      "Epoch 42/100\n",
      "5095/5095 [==============================] - 18s 4ms/step - loss: 0.9925 - val_loss: 1.0119\n",
      "Epoch 43/100\n",
      "5095/5095 [==============================] - 18s 4ms/step - loss: 0.9926 - val_loss: 1.0070\n",
      "Epoch 44/100\n",
      "5095/5095 [==============================] - 18s 3ms/step - loss: 0.9925 - val_loss: 1.0108\n",
      "Epoch 45/100\n",
      "5095/5095 [==============================] - 18s 3ms/step - loss: 0.9925 - val_loss: 1.0122\n",
      "Epoch 46/100\n",
      "5095/5095 [==============================] - 17s 3ms/step - loss: 0.9926 - val_loss: 1.0077\n",
      "Epoch 47/100\n",
      "5095/5095 [==============================] - 17s 3ms/step - loss: 0.9925 - val_loss: 1.0140\n",
      "Epoch 48/100\n",
      "5095/5095 [==============================] - 17s 3ms/step - loss: 0.9925 - val_loss: 1.0092\n",
      "Epoch 49/100\n",
      "5095/5095 [==============================] - 17s 3ms/step - loss: 0.9925 - val_loss: 1.0128\n",
      "Epoch 50/100\n",
      "5095/5095 [==============================] - 17s 3ms/step - loss: 0.9925 - val_loss: 1.0097\n",
      "Epoch 51/100\n",
      "5095/5095 [==============================] - 17s 3ms/step - loss: 0.9925 - val_loss: 1.0143\n",
      "Epoch 52/100\n",
      "5095/5095 [==============================] - 17s 3ms/step - loss: 0.9924 - val_loss: 1.0098\n",
      "Epoch 53/100\n",
      "5095/5095 [==============================] - 18s 3ms/step - loss: 0.9924 - val_loss: 1.0137\n",
      "Epoch 54/100\n",
      "5095/5095 [==============================] - 18s 3ms/step - loss: 0.9924 - val_loss: 1.0126\n",
      "Epoch 55/100\n",
      "5095/5095 [==============================] - 17s 3ms/step - loss: 0.9924 - val_loss: 1.0118\n",
      "Epoch 56/100\n",
      "5095/5095 [==============================] - 5238s 1s/step - loss: 0.9924 - val_loss: 1.0118\n",
      "Epoch 57/100\n",
      "5095/5095 [==============================] - 18s 4ms/step - loss: 0.9924 - val_loss: 1.0145\n",
      "Epoch 58/100\n",
      "5095/5095 [==============================] - 20s 4ms/step - loss: 0.9924 - val_loss: 1.0190\n",
      "Epoch 59/100\n",
      "5095/5095 [==============================] - 20s 4ms/step - loss: 0.9924 - val_loss: 1.0108\n",
      "Epoch 60/100\n",
      "5095/5095 [==============================] - 20s 4ms/step - loss: 0.9924 - val_loss: 1.0131\n",
      "Epoch 61/100\n",
      "5095/5095 [==============================] - 18s 4ms/step - loss: 0.9923 - val_loss: 1.0087\n",
      "Epoch 62/100\n",
      "5095/5095 [==============================] - 18s 4ms/step - loss: 0.9923 - val_loss: 1.0094\n",
      "Epoch 63/100\n",
      "5095/5095 [==============================] - 19s 4ms/step - loss: 0.9923 - val_loss: 1.0165\n",
      "Epoch 64/100\n",
      "5095/5095 [==============================] - 19s 4ms/step - loss: 0.9923 - val_loss: 1.0148\n",
      "Epoch 65/100\n",
      "5095/5095 [==============================] - 19s 4ms/step - loss: 0.9922 - val_loss: 1.0132\n",
      "Epoch 66/100\n",
      "5095/5095 [==============================] - 19s 4ms/step - loss: 0.9923 - val_loss: 1.0110\n",
      "Epoch 67/100\n",
      "5095/5095 [==============================] - 19s 4ms/step - loss: 0.9923 - val_loss: 1.0129\n",
      "Epoch 68/100\n",
      "5095/5095 [==============================] - 18s 4ms/step - loss: 0.9922 - val_loss: 1.0088\n",
      "Epoch 69/100\n",
      "5095/5095 [==============================] - 19s 4ms/step - loss: 0.9922 - val_loss: 1.0131\n",
      "Epoch 70/100\n",
      "5095/5095 [==============================] - 20s 4ms/step - loss: 0.9923 - val_loss: 1.0094\n",
      "Epoch 71/100\n",
      "5095/5095 [==============================] - 19s 4ms/step - loss: 0.9922 - val_loss: 1.0123\n",
      "Epoch 72/100\n",
      "5095/5095 [==============================] - 19s 4ms/step - loss: 0.9922 - val_loss: 1.0143\n",
      "Epoch 73/100\n",
      "5095/5095 [==============================] - 17s 3ms/step - loss: 0.9922 - val_loss: 1.0125\n",
      "Epoch 74/100\n",
      "5095/5095 [==============================] - 17s 3ms/step - loss: 0.9922 - val_loss: 1.0123\n",
      "Epoch 75/100\n",
      "5095/5095 [==============================] - 17s 3ms/step - loss: 0.9922 - val_loss: 1.0121\n",
      "Epoch 76/100\n",
      "5095/5095 [==============================] - 17s 3ms/step - loss: 0.9922 - val_loss: 1.0105\n",
      "Epoch 77/100\n",
      "5095/5095 [==============================] - 17s 3ms/step - loss: 0.9922 - val_loss: 1.0105\n",
      "Epoch 78/100\n",
      "5095/5095 [==============================] - 17s 3ms/step - loss: 0.9922 - val_loss: 1.0156\n",
      "Epoch 79/100\n",
      "5095/5095 [==============================] - 17s 3ms/step - loss: 0.9922 - val_loss: 1.0091\n",
      "Epoch 80/100\n",
      "5095/5095 [==============================] - 17s 3ms/step - loss: 0.9922 - val_loss: 1.0112\n",
      "Epoch 81/100\n",
      "5095/5095 [==============================] - 18s 3ms/step - loss: 0.9922 - val_loss: 1.0140\n",
      "Epoch 82/100\n",
      "5095/5095 [==============================] - 18s 3ms/step - loss: 0.9922 - val_loss: 1.0111\n",
      "Epoch 83/100\n",
      "5095/5095 [==============================] - 17s 3ms/step - loss: 0.9922 - val_loss: 1.0129\n",
      "Epoch 84/100\n",
      "5095/5095 [==============================] - 17s 3ms/step - loss: 0.9922 - val_loss: 1.0105\n",
      "Epoch 85/100\n",
      "5095/5095 [==============================] - 17s 3ms/step - loss: 0.9922 - val_loss: 1.0111\n",
      "Epoch 86/100\n",
      "5095/5095 [==============================] - 17s 3ms/step - loss: 0.9922 - val_loss: 1.0147\n",
      "Epoch 87/100\n",
      "5095/5095 [==============================] - 17s 3ms/step - loss: 0.9922 - val_loss: 1.0098\n",
      "Epoch 88/100\n",
      "5095/5095 [==============================] - 18s 3ms/step - loss: 0.9921 - val_loss: 1.0093\n",
      "Epoch 89/100\n",
      "5095/5095 [==============================] - 17s 3ms/step - loss: 0.9921 - val_loss: 1.0106\n",
      "Epoch 90/100\n",
      "5095/5095 [==============================] - 17s 3ms/step - loss: 0.9921 - val_loss: 1.0114\n",
      "Epoch 91/100\n",
      "5095/5095 [==============================] - 17s 3ms/step - loss: 0.9921 - val_loss: 1.0111\n",
      "Epoch 92/100\n",
      "5095/5095 [==============================] - 17s 3ms/step - loss: 0.9921 - val_loss: 1.0101\n",
      "Epoch 93/100\n",
      "5095/5095 [==============================] - 17s 3ms/step - loss: 0.9921 - val_loss: 1.0108\n",
      "Epoch 94/100\n",
      "5095/5095 [==============================] - 17s 3ms/step - loss: 0.9921 - val_loss: 1.0085\n",
      "Epoch 95/100\n",
      "5095/5095 [==============================] - 18s 4ms/step - loss: 0.9921 - val_loss: 1.0117\n",
      "Epoch 96/100\n",
      "5095/5095 [==============================] - 17s 3ms/step - loss: 0.9921 - val_loss: 1.0096\n",
      "Epoch 97/100\n",
      "5095/5095 [==============================] - 17s 3ms/step - loss: 0.9921 - val_loss: 1.0080\n",
      "Epoch 98/100\n",
      "5095/5095 [==============================] - 18s 3ms/step - loss: 0.9922 - val_loss: 1.0124\n",
      "Epoch 99/100\n",
      "5095/5095 [==============================] - 17s 3ms/step - loss: 0.9921 - val_loss: 1.0113\n",
      "Epoch 100/100\n",
      "5095/5095 [==============================] - 17s 3ms/step - loss: 0.9921 - val_loss: 1.0128\n"
     ]
    }
   ],
   "source": [
    "#set model parameters\n",
    "batch_size = 32\n",
    "num_epochs = 100\n",
    "\n",
    "\n",
    "#train the model\n",
    "history = model.fit(train_current_vars, train_target_vars, epochs=100, validation_data=(test_current_vars, test_target_vars))\n",
    "\n"
   ]
  },
  {
   "cell_type": "code",
   "execution_count": 6,
   "metadata": {},
   "outputs": [],
   "source": [
    "#save the model\n",
    "model.save(\"chitradurga1.h5\")\n"
   ]
  },
  {
   "cell_type": "code",
   "execution_count": 7,
   "metadata": {},
   "outputs": [
    {
     "name": "stdout",
     "output_type": "stream",
     "text": [
      "WARNING:tensorflow:Layer lstm will not use cuDNN kernels since it doesn't meet the criteria. It will use a generic GPU kernel as fallback when running on GPU.\n"
     ]
    }
   ],
   "source": [
    "#LOAD THE MODEL\n",
    "model = tf.keras.models.load_model(\"chitradurga1.h5\")\n"
   ]
  },
  {
   "cell_type": "code",
   "execution_count": 8,
   "metadata": {},
   "outputs": [
    {
     "name": "stdout",
     "output_type": "stream",
     "text": [
      "1274/1274 [==============================] - 1s 1ms/step\n"
     ]
    }
   ],
   "source": [
    "#make some test predictions\n",
    "predictions = model.predict(test_current_vars)\n",
    "\n"
   ]
  },
  {
   "cell_type": "code",
   "execution_count": 9,
   "metadata": {},
   "outputs": [
    {
     "name": "stdout",
     "output_type": "stream",
     "text": [
      "[[-0.00888728  0.00304751 -0.02481037]\n",
      " [-0.00763468 -0.00014901 -0.02144819]\n",
      " [-0.00775682 -0.00181108 -0.02142365]\n",
      " ...\n",
      " [-0.01658102  0.03694058 -0.05686431]\n",
      " [-0.01688932  0.02955078 -0.0575743 ]\n",
      " [-0.01713032  0.02065526 -0.05699842]]\n"
     ]
    }
   ],
   "source": [
    "#print the predictions\n",
    "print(predictions)\n"
   ]
  },
  {
   "cell_type": "code",
   "execution_count": 21,
   "metadata": {},
   "outputs": [
    {
     "ename": "IndexError",
     "evalue": "too many indices for array: array is 2-dimensional, but 3 were indexed",
     "output_type": "error",
     "traceback": [
      "\u001b[1;31m---------------------------------------------------------------------------\u001b[0m",
      "\u001b[1;31mIndexError\u001b[0m                                Traceback (most recent call last)",
      "Cell \u001b[1;32mIn[21], line 2\u001b[0m\n\u001b[0;32m      1\u001b[0m \u001b[39m#plot the predictions of rain,soil_temperature_0_to_7cm,soil_moisture\u001b[39;00m\n\u001b[1;32m----> 2\u001b[0m plt\u001b[39m.\u001b[39mplot(predictions[:, :, \u001b[39m0\u001b[39;49m], label\u001b[39m=\u001b[39m\u001b[39m\"\u001b[39m\u001b[39mRain\u001b[39m\u001b[39m\"\u001b[39m)\n\u001b[0;32m      3\u001b[0m plt\u001b[39m.\u001b[39mplot(predictions[:, :, \u001b[39m1\u001b[39m], label\u001b[39m=\u001b[39m\u001b[39m\"\u001b[39m\u001b[39mSoil Temperature\u001b[39m\u001b[39m\"\u001b[39m)\n\u001b[0;32m      4\u001b[0m plt\u001b[39m.\u001b[39mplot(predictions[:, :, \u001b[39m2\u001b[39m], label\u001b[39m=\u001b[39m\u001b[39m\"\u001b[39m\u001b[39mSoil Moisture\u001b[39m\u001b[39m\"\u001b[39m)\n",
      "\u001b[1;31mIndexError\u001b[0m: too many indices for array: array is 2-dimensional, but 3 were indexed"
     ]
    }
   ],
   "source": [
    "#plot the predictions of rain,soil_temperature_0_to_7cm,soil_moisture\n",
    "plt.plot(predictions[:, :, 0], label=\"Rain\")\n",
    "plt.plot(predictions[:, :, 1], label=\"Soil Temperature\")\n",
    "plt.plot(predictions[:, :, 2], label=\"Soil Moisture\")\n",
    "plt.legend()\n",
    "\n",
    "#check model accuracy for all the variables in the dataset\n",
    "print(model.evaluate(test_current_vars, test_target_vars))\n",
    "\n"
   ]
  },
  {
   "cell_type": "code",
   "execution_count": 15,
   "metadata": {},
   "outputs": [
    {
     "name": "stdout",
     "output_type": "stream",
     "text": [
      "1/1 [==============================] - 0s 12ms/step\n",
      "[[ 0.00298148  0.0291717  -0.00465049]]\n",
      "1274/1274 [==============================] - 2s 1ms/step - loss: 1.0128\n",
      "1.0128110647201538\n"
     ]
    }
   ],
   "source": [
    "#test for single input\n",
    "test_input = np.array([[0.5, 0.5]])\n",
    "test_input = test_input.reshape((1, 1, 2))\n",
    "print(model.predict(test_input))\n",
    "\n",
    "#check model accuracy using shaped data\n",
    "#model.evaluate(test_current_vars, test_target_vars)\n",
    "\n",
    "#print the model accuracy calculated for 100 percent\n",
    "print(model.evaluate(test_current_vars, test_target_vars))\n",
    "\n",
    "\n"
   ]
  },
  {
   "cell_type": "code",
   "execution_count": 19,
   "metadata": {},
   "outputs": [
    {
     "ename": "ValueError",
     "evalue": "Found array with dim 3. None expected <= 2.",
     "output_type": "error",
     "traceback": [
      "\u001b[1;31m---------------------------------------------------------------------------\u001b[0m",
      "\u001b[1;31mValueError\u001b[0m                                Traceback (most recent call last)",
      "Cell \u001b[1;32mIn[19], line 5\u001b[0m\n\u001b[0;32m      3\u001b[0m \u001b[39mfrom\u001b[39;00m \u001b[39msklearn\u001b[39;00m\u001b[39m.\u001b[39;00m\u001b[39mmetrics\u001b[39;00m \u001b[39mimport\u001b[39;00m r2_score\n\u001b[0;32m      4\u001b[0m \u001b[39mfrom\u001b[39;00m \u001b[39mmath\u001b[39;00m \u001b[39mimport\u001b[39;00m sqrt\n\u001b[1;32m----> 5\u001b[0m rmse \u001b[39m=\u001b[39m sqrt(mean_squared_error(test_target_vars, predictions))\n\u001b[0;32m      6\u001b[0m \u001b[39mprint\u001b[39m(rmse)\n\u001b[0;32m      7\u001b[0m r2 \u001b[39m=\u001b[39m r2_score(test_target_vars, predictions)\n",
      "File \u001b[1;32mc:\\Users\\cheth\\.conda\\envs\\tf\\lib\\site-packages\\sklearn\\metrics\\_regression.py:442\u001b[0m, in \u001b[0;36mmean_squared_error\u001b[1;34m(y_true, y_pred, sample_weight, multioutput, squared)\u001b[0m\n\u001b[0;32m    382\u001b[0m \u001b[39mdef\u001b[39;00m \u001b[39mmean_squared_error\u001b[39m(\n\u001b[0;32m    383\u001b[0m     y_true, y_pred, \u001b[39m*\u001b[39m, sample_weight\u001b[39m=\u001b[39m\u001b[39mNone\u001b[39;00m, multioutput\u001b[39m=\u001b[39m\u001b[39m\"\u001b[39m\u001b[39muniform_average\u001b[39m\u001b[39m\"\u001b[39m, squared\u001b[39m=\u001b[39m\u001b[39mTrue\u001b[39;00m\n\u001b[0;32m    384\u001b[0m ):\n\u001b[0;32m    385\u001b[0m \u001b[39m    \u001b[39m\u001b[39m\"\"\"Mean squared error regression loss.\u001b[39;00m\n\u001b[0;32m    386\u001b[0m \n\u001b[0;32m    387\u001b[0m \u001b[39m    Read more in the :ref:`User Guide <mean_squared_error>`.\u001b[39;00m\n\u001b[1;32m   (...)\u001b[0m\n\u001b[0;32m    440\u001b[0m \u001b[39m    0.825...\u001b[39;00m\n\u001b[0;32m    441\u001b[0m \u001b[39m    \"\"\"\u001b[39;00m\n\u001b[1;32m--> 442\u001b[0m     y_type, y_true, y_pred, multioutput \u001b[39m=\u001b[39m _check_reg_targets(\n\u001b[0;32m    443\u001b[0m         y_true, y_pred, multioutput\n\u001b[0;32m    444\u001b[0m     )\n\u001b[0;32m    445\u001b[0m     check_consistent_length(y_true, y_pred, sample_weight)\n\u001b[0;32m    446\u001b[0m     output_errors \u001b[39m=\u001b[39m np\u001b[39m.\u001b[39maverage((y_true \u001b[39m-\u001b[39m y_pred) \u001b[39m*\u001b[39m\u001b[39m*\u001b[39m \u001b[39m2\u001b[39m, axis\u001b[39m=\u001b[39m\u001b[39m0\u001b[39m, weights\u001b[39m=\u001b[39msample_weight)\n",
      "File \u001b[1;32mc:\\Users\\cheth\\.conda\\envs\\tf\\lib\\site-packages\\sklearn\\metrics\\_regression.py:101\u001b[0m, in \u001b[0;36m_check_reg_targets\u001b[1;34m(y_true, y_pred, multioutput, dtype)\u001b[0m\n\u001b[0;32m     67\u001b[0m \u001b[39m\u001b[39m\u001b[39m\"\"\"Check that y_true and y_pred belong to the same regression task.\u001b[39;00m\n\u001b[0;32m     68\u001b[0m \n\u001b[0;32m     69\u001b[0m \u001b[39mParameters\u001b[39;00m\n\u001b[1;32m   (...)\u001b[0m\n\u001b[0;32m     98\u001b[0m \u001b[39m    correct keyword.\u001b[39;00m\n\u001b[0;32m     99\u001b[0m \u001b[39m\"\"\"\u001b[39;00m\n\u001b[0;32m    100\u001b[0m check_consistent_length(y_true, y_pred)\n\u001b[1;32m--> 101\u001b[0m y_true \u001b[39m=\u001b[39m check_array(y_true, ensure_2d\u001b[39m=\u001b[39;49m\u001b[39mFalse\u001b[39;49;00m, dtype\u001b[39m=\u001b[39;49mdtype)\n\u001b[0;32m    102\u001b[0m y_pred \u001b[39m=\u001b[39m check_array(y_pred, ensure_2d\u001b[39m=\u001b[39m\u001b[39mFalse\u001b[39;00m, dtype\u001b[39m=\u001b[39mdtype)\n\u001b[0;32m    104\u001b[0m \u001b[39mif\u001b[39;00m y_true\u001b[39m.\u001b[39mndim \u001b[39m==\u001b[39m \u001b[39m1\u001b[39m:\n",
      "File \u001b[1;32mc:\\Users\\cheth\\.conda\\envs\\tf\\lib\\site-packages\\sklearn\\utils\\validation.py:915\u001b[0m, in \u001b[0;36mcheck_array\u001b[1;34m(array, accept_sparse, accept_large_sparse, dtype, order, copy, force_all_finite, ensure_2d, allow_nd, ensure_min_samples, ensure_min_features, estimator, input_name)\u001b[0m\n\u001b[0;32m    910\u001b[0m     \u001b[39mraise\u001b[39;00m \u001b[39mValueError\u001b[39;00m(\n\u001b[0;32m    911\u001b[0m         \u001b[39m\"\u001b[39m\u001b[39mdtype=\u001b[39m\u001b[39m'\u001b[39m\u001b[39mnumeric\u001b[39m\u001b[39m'\u001b[39m\u001b[39m is not compatible with arrays of bytes/strings.\u001b[39m\u001b[39m\"\u001b[39m\n\u001b[0;32m    912\u001b[0m         \u001b[39m\"\u001b[39m\u001b[39mConvert your data to numeric values explicitly instead.\u001b[39m\u001b[39m\"\u001b[39m\n\u001b[0;32m    913\u001b[0m     )\n\u001b[0;32m    914\u001b[0m \u001b[39mif\u001b[39;00m \u001b[39mnot\u001b[39;00m allow_nd \u001b[39mand\u001b[39;00m array\u001b[39m.\u001b[39mndim \u001b[39m>\u001b[39m\u001b[39m=\u001b[39m \u001b[39m3\u001b[39m:\n\u001b[1;32m--> 915\u001b[0m     \u001b[39mraise\u001b[39;00m \u001b[39mValueError\u001b[39;00m(\n\u001b[0;32m    916\u001b[0m         \u001b[39m\"\u001b[39m\u001b[39mFound array with dim \u001b[39m\u001b[39m%d\u001b[39;00m\u001b[39m. \u001b[39m\u001b[39m%s\u001b[39;00m\u001b[39m expected <= 2.\u001b[39m\u001b[39m\"\u001b[39m\n\u001b[0;32m    917\u001b[0m         \u001b[39m%\u001b[39m (array\u001b[39m.\u001b[39mndim, estimator_name)\n\u001b[0;32m    918\u001b[0m     )\n\u001b[0;32m    920\u001b[0m \u001b[39mif\u001b[39;00m force_all_finite:\n\u001b[0;32m    921\u001b[0m     _assert_all_finite(\n\u001b[0;32m    922\u001b[0m         array,\n\u001b[0;32m    923\u001b[0m         input_name\u001b[39m=\u001b[39minput_name,\n\u001b[0;32m    924\u001b[0m         estimator_name\u001b[39m=\u001b[39mestimator_name,\n\u001b[0;32m    925\u001b[0m         allow_nan\u001b[39m=\u001b[39mforce_all_finite \u001b[39m==\u001b[39m \u001b[39m\"\u001b[39m\u001b[39mallow-nan\u001b[39m\u001b[39m\"\u001b[39m,\n\u001b[0;32m    926\u001b[0m     )\n",
      "\u001b[1;31mValueError\u001b[0m: Found array with dim 3. None expected <= 2."
     ]
    }
   ],
   "source": [
    "\n",
    "\n"
   ]
  },
  {
   "cell_type": "code",
   "execution_count": null,
   "metadata": {},
   "outputs": [],
   "source": []
  }
 ],
 "metadata": {
  "kernelspec": {
   "display_name": "Python 3",
   "language": "python",
   "name": "python3"
  },
  "language_info": {
   "codemirror_mode": {
    "name": "ipython",
    "version": 3
   },
   "file_extension": ".py",
   "mimetype": "text/x-python",
   "name": "python",
   "nbconvert_exporter": "python",
   "pygments_lexer": "ipython3",
   "version": "3.9.16"
  },
  "orig_nbformat": 4
 },
 "nbformat": 4,
 "nbformat_minor": 2
}
